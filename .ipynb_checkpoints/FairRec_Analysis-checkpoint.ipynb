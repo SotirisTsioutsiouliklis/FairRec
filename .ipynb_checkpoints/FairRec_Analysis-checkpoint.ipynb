{
 "cells": [
  {
   "cell_type": "code",
   "execution_count": null,
   "metadata": {},
   "outputs": [],
   "source": [
    "# Import needed libraries.\n",
    "%matplotlib notebook\n",
    "import numpy as np\n",
    "import pandas as pd\n",
    "import matplotlib.pyplot as plt\n",
    "\n",
    "# Nodes to plot/analyze.\n",
    "nodes = [60, 50, 33]"
   ]
  },
  {
   "cell_type": "code",
   "execution_count": null,
   "metadata": {},
   "outputs": [],
   "source": [
    "# Load 3 for node 0.\n",
    "df_0 = pd.read_csv('out_greedy_per_one_%d_log.txt' %nodes[0], sep='\\t')\n",
    "# Check load.\n",
    "df_0.head()"
   ]
  },
  {
   "cell_type": "code",
   "execution_count": null,
   "metadata": {},
   "outputs": [],
   "source": [
    "# Load 3 for node 1.\n",
    "df_1 = pd.read_csv('out_greedy_per_one_%d_log.txt' %nodes[1], sep='\\t')\n",
    "# Check load.\n",
    "df_1.head()"
   ]
  },
  {
   "cell_type": "code",
   "execution_count": null,
   "metadata": {},
   "outputs": [],
   "source": [
    "# Load 3 for node 2.\n",
    "df_2 = pd.read_csv('out_greedy_per_one_%d_log.txt' %nodes[2], sep='\\t')\n",
    "# Check load.\n",
    "df_2.head()"
   ]
  },
  {
   "cell_type": "code",
   "execution_count": null,
   "metadata": {},
   "outputs": [],
   "source": [
    "# Plot precision plots.\n",
    "df_0.plot(x=0, y=[1,2,3], kind='line')\n",
    "df_1.plot(x=0, y=[1,2,3], kind='line')\n",
    "df_2.plot(x=0, y=[1,2,3], kind='line')"
   ]
  },
  {
   "cell_type": "markdown",
   "metadata": {},
   "source": [
    "### Compare Greedy to Fast Greedy."
   ]
  },
  {
   "cell_type": "code",
   "execution_count": null,
   "metadata": {},
   "outputs": [],
   "source": [
    "# Load 3 for node 0. Edges and PageRank columns only.\n",
    "df_a_0 = pd.read_csv('out_greedy_per_one_%d_log.txt' %nodes[0], sep='\\t', usecols=[0,1], names=['Edge', 'Pagerank Greedy'], header=0)\n",
    "df_b_0 = pd.read_csv('out_fast_greedy_per_one_%d_log.txt' %nodes[0], sep='\\t', usecols=[0,1], names=['Edge', 'Pagerank Fast Greedy'], header=0)\n",
    "# Concatenate properly.\n",
    "df_0 = pd.merge(df_a_0, df_b_0, how='left', on='Edge')\n",
    "# Check load.\n",
    "df_0.head()"
   ]
  },
  {
   "cell_type": "code",
   "execution_count": null,
   "metadata": {},
   "outputs": [],
   "source": [
    "# Load 3 for node 1. Edges and PageRank columns only.\n",
    "df_a_1 = pd.read_csv('out_greedy_per_one_%d_log.txt' %nodes[1], sep='\\t', usecols=[0,1], names=['Edge', 'Pagerank Greedy'], header=0)\n",
    "df_b_1 = pd.read_csv('out_fast_greedy_per_one_%d_log.txt' %nodes[1], sep='\\t', usecols=[0,1], names=['Edge', 'Pagerank Fast Greedy'], header=0)\n",
    "# Concatenate properly.\n",
    "df_1 = pd.merge(df_a_1, df_b_1, how='left', on='Edge')\n",
    "# Check load.\n",
    "df_1.head()"
   ]
  },
  {
   "cell_type": "code",
   "execution_count": null,
   "metadata": {},
   "outputs": [],
   "source": [
    "# Load 3 for node 2. Edges and PageRank columns only.\n",
    "df_a_2 = pd.read_csv('out_greedy_per_one_%d_log.txt' %nodes[2], sep='\\t', usecols=[0,1], names=['Edge', 'Pagerank Greedy'], header=0)\n",
    "df_b_2 = pd.read_csv('out_fast_greedy_per_one_%d_log.txt' %nodes[2], sep='\\t', usecols=[0,1], names=['Edge', 'Pagerank Fast Greedy'], header=0)\n",
    "# Concatenate properly.\n",
    "df_2 = pd.merge(df_a_2, df_b_2, how='left', on='Edge')\n",
    "# Check load.\n",
    "df_2.head()"
   ]
  },
  {
   "cell_type": "code",
   "execution_count": null,
   "metadata": {},
   "outputs": [],
   "source": [
    "# Plot Greedy vs fast Greedy plots.\n",
    "df_0.plot(x=0, y=[1,2], kind='line')\n",
    "df_1.plot(x=0, y=[1,2], kind='line')\n",
    "df_2.plot(x=0, y=[1,2], kind='line')"
   ]
  },
  {
   "cell_type": "markdown",
   "metadata": {},
   "source": [
    "### Compare Random Algorithms. Edges, Sources."
   ]
  },
  {
   "cell_type": "code",
   "execution_count": null,
   "metadata": {},
   "outputs": [],
   "source": [
    "# Get average from random edges experiments.\n",
    "def average_random_edges():\n",
    "    rnd_edges = np.zeros(1000)\n",
    "\n",
    "\n",
    "    for i in range(10):\n",
    "        with open(\"out_random_edges_%d_log.txt\" %i, \"r\") as file_one:\n",
    "            file_one.readline()\n",
    "            for j in range(1000):\n",
    "                rnd_edges[j] += float(file_one.readline().split()[1])\n",
    "\n",
    "    rnd_edges = rnd_edges / 10\n",
    "\n",
    "    with open(\"random_edges.txt\", \"w\") as file_one:\n",
    "        file_one.write(\"edge\\tRed Ratio\\n\")\n",
    "        for i in range(1000):\n",
    "            file_one.write(\"%d\\t%f\\n\" %(i, rnd_edges[i]))\n",
    "            \n",
    "average_random_edges()"
   ]
  },
  {
   "cell_type": "code",
   "execution_count": null,
   "metadata": {
    "scrolled": true
   },
   "outputs": [],
   "source": [
    "# Load random edges.\n",
    "df_rand_e = pd.read_csv('random_edges.txt', sep='\\t', header=0, names=['Edge', 'Pagerank Random Edges'])\n",
    "# Check load.\n",
    "df_rand_e.head()\n",
    "df_rand_e.info()"
   ]
  },
  {
   "cell_type": "code",
   "execution_count": null,
   "metadata": {},
   "outputs": [],
   "source": [
    "# Load random source.\n",
    "df_rand_s = pd.read_csv('out_random_source_all_log.txt', sep='\\t', header=0, usecols=[0, 1], names=['Edge', 'Pagerank Random Sources'])\n",
    "# Check load.\n",
    "df_rand_s.head()\n",
    "df_rand_s.info()\n",
    "df_rand_s.plot(x=0, y=1)"
   ]
  },
  {
   "cell_type": "code",
   "execution_count": null,
   "metadata": {},
   "outputs": [],
   "source": [
    "# Load Greedy.\n",
    "df_gd = pd.read_csv('out_greedy_all_log.txt', sep='\\t', header=0, usecols=[0, 1], names=['Edge', 'Pagerank Greedy'])\n",
    "# Check load.\n",
    "df_gd.head()\n",
    "df_gd.info()\n",
    "#df_gd.plot(x=0, y=1)"
   ]
  },
  {
   "cell_type": "code",
   "execution_count": null,
   "metadata": {},
   "outputs": [],
   "source": [
    "# Merge random properly.\n",
    "df_rand = pd.merge(df_rand_e, df_rand_s, how='left', on='Edge')\n",
    "# Check merge.\n",
    "df_rand.head()\n",
    "df_rand.info()"
   ]
  },
  {
   "cell_type": "code",
   "execution_count": null,
   "metadata": {},
   "outputs": [],
   "source": [
    "# Merge all properly.\n",
    "df = pd.merge(df_rand, df_gd, how='left', on='Edge')\n",
    "# Check merge.\n",
    "df.head()"
   ]
  },
  {
   "cell_type": "code",
   "execution_count": null,
   "metadata": {},
   "outputs": [],
   "source": [
    "# Plot random stats.\n",
    "fig = df.plot(x=0, y=[1,2,3], kind='line').get_figure()\n",
    "fig.savefig(\"random_three.pdf\")\n",
    "fig.savefig(\"random_three.png\")"
   ]
  },
  {
   "cell_type": "markdown",
   "metadata": {},
   "source": [
    "### Analyse Source node's behaviour."
   ]
  },
  {
   "cell_type": "code",
   "execution_count": null,
   "metadata": {},
   "outputs": [],
   "source": [
    "# Load infos.\n",
    "df = pd.read_csv('source_node_infos.txt', sep ='\\t')\n",
    "df.head()"
   ]
  },
  {
   "cell_type": "code",
   "execution_count": null,
   "metadata": {},
   "outputs": [],
   "source": [
    "pd.plotting.scatter_matrix(df)"
   ]
  },
  {
   "cell_type": "code",
   "execution_count": null,
   "metadata": {},
   "outputs": [],
   "source": [
    "df.plot(x=1, y= 6, kind='scatter')"
   ]
  },
  {
   "cell_type": "code",
   "execution_count": null,
   "metadata": {},
   "outputs": [],
   "source": [
    "df.plot(x=2, y= 6, kind='scatter')"
   ]
  },
  {
   "cell_type": "code",
   "execution_count": null,
   "metadata": {},
   "outputs": [],
   "source": [
    "# Load graph infos.\n",
    "pgrnk = pd.read_csv('pagerank.txt', names=['PageRank'])\n",
    "red_pgrnk = pd.read_csv('red_ratio.txt', names=['Red_Ratio'])\n",
    "pgrnk.head()\n",
    "red_pgrnk.head()"
   ]
  },
  {
   "cell_type": "code",
   "execution_count": null,
   "metadata": {},
   "outputs": [],
   "source": [
    "pgrnk.plot.hist(bins=500)"
   ]
  },
  {
   "cell_type": "code",
   "execution_count": null,
   "metadata": {
    "scrolled": true
   },
   "outputs": [],
   "source": [
    "red_pgrnk.plot.hist(bins=500)"
   ]
  },
  {
   "cell_type": "markdown",
   "metadata": {},
   "source": [
    "### One edge to All nodes."
   ]
  },
  {
   "cell_type": "code",
   "execution_count": null,
   "metadata": {},
   "outputs": [],
   "source": [
    "df_r = pd.read_csv('out_one_to_all_random_log.txt', sep='\\t', usecols=[0, 1], header=0, names=['Edge', 'Random'])\n",
    "#df_r.head()\n",
    "#df_r.info()"
   ]
  },
  {
   "cell_type": "code",
   "execution_count": null,
   "metadata": {},
   "outputs": [],
   "source": [
    "df_g = pd.read_csv('out_one_to_all_greedy_log.txt', sep='\\t', usecols=[0, 1], header=0, names=['Edge', 'Greedy'])\n",
    "#df_g.head()\n",
    "#df_g.info()"
   ]
  },
  {
   "cell_type": "code",
   "execution_count": null,
   "metadata": {},
   "outputs": [],
   "source": [
    "df_fg = pd.read_csv('out_one_to_all_fast_greedy_log.txt', sep='\\t', usecols=[0, 1], header=0, names=['Edge', 'Fast_Greedy'])\n",
    "#df_fg.head()\n",
    "#df_g.info()"
   ]
  },
  {
   "cell_type": "code",
   "execution_count": null,
   "metadata": {},
   "outputs": [],
   "source": [
    "df_0 = pd.merge(df_r, df_g, how='left', on='Edge')\n",
    "df = pd.merge(df_0, df_fg, how='left', on='Edge')\n",
    "df.plot(x=0, y=[1, 2, 3], kind='line')"
   ]
  },
  {
   "cell_type": "code",
   "execution_count": null,
   "metadata": {},
   "outputs": [],
   "source": [
    "df_r = pd.read_csv('otar_target_nodes.txt', sep='\\t', names=['Random_target'])\n",
    "df_r['Random_target'].nunique()"
   ]
  },
  {
   "cell_type": "code",
   "execution_count": null,
   "metadata": {},
   "outputs": [],
   "source": [
    "df_g = pd.read_csv('otag_target_nodes.txt', sep='\\t', names=['Random_target'])\n",
    "df_g['Random_target'].nunique()"
   ]
  },
  {
   "cell_type": "code",
   "execution_count": null,
   "metadata": {},
   "outputs": [],
   "source": [
    "df_g['Random_target'].unique()"
   ]
  },
  {
   "cell_type": "code",
   "execution_count": null,
   "metadata": {},
   "outputs": [],
   "source": [
    "df_fg = pd.read_csv('otafg_target_nodes.txt', sep='\\t', names=['Random_target'])\n",
    "df_fg['Random_target'].nunique()"
   ]
  },
  {
   "cell_type": "code",
   "execution_count": null,
   "metadata": {},
   "outputs": [],
   "source": [
    "df_fg['Random_target'].unique()"
   ]
  },
  {
   "cell_type": "code",
   "execution_count": null,
   "metadata": {},
   "outputs": [],
   "source": []
  },
  {
   "cell_type": "code",
   "execution_count": null,
   "metadata": {},
   "outputs": [],
   "source": []
  }
 ],
 "metadata": {
  "kernelspec": {
   "display_name": "Python 3",
   "language": "python",
   "name": "python3"
  },
  "language_info": {
   "codemirror_mode": {
    "name": "ipython",
    "version": 3
   },
   "file_extension": ".py",
   "mimetype": "text/x-python",
   "name": "python",
   "nbconvert_exporter": "python",
   "pygments_lexer": "ipython3",
   "version": "3.7.4"
  }
 },
 "nbformat": 4,
 "nbformat_minor": 4
}
