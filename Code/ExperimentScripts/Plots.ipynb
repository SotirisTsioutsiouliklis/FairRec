{
 "cells": [
  {
   "cell_type": "code",
   "execution_count": null,
   "metadata": {},
   "outputs": [],
   "source": [
    "import pandas as pd\n",
    "import matplotlib.pyplot as plt\n"
   ]
  },
  {
   "cell_type": "code",
   "execution_count": null,
   "metadata": {},
   "outputs": [],
   "source": [
    "dataset = \"blogs\"\n",
    "scores_files = [\"sc_fair.csv\", \"sc_adamic_adar.csv\", \"sc_jaccard-coefficient.csv\", \"sc_resource-allocation.csv\", \n",
    "                \"sc_preferential-attachment.csv\", \"sc_node2vec.csv\", \"sc_fairwalk.csv\"]\n",
    "accept_prob_files = [\"accept_prob_fair.csv\", \"accept_prob_adamic_adar.csv\",\n",
    "                     \"accept_prob_jaccard-coefficient.csv\", \n",
    "                     \"accept_prob_resource-allocation.csv\", \"accept_prob_preferential-attachment.csv\",\n",
    "                    \"accept_prob_node2vec.csv\", \"accept_prob_fairwalk.csv\"]\n"
   ]
  },
  {
   "cell_type": "code",
   "execution_count": null,
   "metadata": {},
   "outputs": [],
   "source": [
    "nrows = 3\n",
    "ncols = 3\n",
    "fig, axes = plt.subplots(nrows, ncols, squeeze=True)\n",
    "i = 0\n",
    "j = 0\n",
    "for sf in scores_files:\n",
    "    df = pd.read_csv(dataset + \"/\" + sf)\n",
    "    name = sf.split(\".\")[0].split(\"_\")[1]\n",
    "    df.plot(ax=axes[i,j], x=\"Rounds\", y=\"Scores\", label=name, kind=\"scatter\")\n",
    "    j+=1\n",
    "    if j == ncols: \n",
    "        j = 0 \n",
    "        i +=1\n",
    "fig.set_size_inches(15, 10, forward=True)\n",
    "fig.tight_layout()        "
   ]
  },
  {
   "cell_type": "code",
   "execution_count": null,
   "metadata": {},
   "outputs": [],
   "source": [
    "nrows = 3\n",
    "ncols = 3\n",
    "fig, axes = plt.subplots(nrows, ncols, squeeze=False)\n",
    "i = 0\n",
    "j = 0\n",
    "for sf in accept_prob_files:\n",
    "    df = pd.read_csv(dataset + \"/\" + sf)\n",
    "    name = sf.split(\".\")[0].split(\"_\")[2]\n",
    "    df.plot(ax=axes[i,j], x=\"Rounds\", y=\"Acceptance_prob\", label=name, kind=\"scatter\")\n",
    "    j+=1\n",
    "    if j == ncols: \n",
    "        j = 0 \n",
    "        i +=1\n",
    "fig.set_size_inches(15, 10, forward=True)\n",
    "fig.tight_layout()        "
   ]
  },
  {
   "cell_type": "code",
   "execution_count": null,
   "metadata": {},
   "outputs": [],
   "source": []
  }
 ],
 "metadata": {
  "kernelspec": {
   "display_name": "Python 3",
   "language": "python",
   "name": "python3"
  },
  "language_info": {
   "codemirror_mode": {
    "name": "ipython",
    "version": 3
   },
   "file_extension": ".py",
   "mimetype": "text/x-python",
   "name": "python",
   "nbconvert_exporter": "python",
   "pygments_lexer": "ipython3",
   "version": "3.8.5"
  }
 },
 "nbformat": 4,
 "nbformat_minor": 4
}
