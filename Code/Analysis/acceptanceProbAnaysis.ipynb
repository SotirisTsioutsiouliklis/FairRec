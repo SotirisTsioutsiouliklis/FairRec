{
 "metadata": {
  "language_info": {
   "codemirror_mode": {
    "name": "ipython",
    "version": 3
   },
   "file_extension": ".py",
   "mimetype": "text/x-python",
   "name": "python",
   "nbconvert_exporter": "python",
   "pygments_lexer": "ipython3",
   "version": 3
  },
  "orig_nbformat": 2
 },
 "nbformat": 4,
 "nbformat_minor": 2,
 "cells": [
  {
   "source": [
    "# Acceptance Probability Analysis\n",
    "\n",
    "Evaluate the quality of the different fair recommendation systems. Compare with benchmarks as node2vec and random."
   ],
   "cell_type": "markdown",
   "metadata": {}
  },
  {
   "cell_type": "code",
   "execution_count": null,
   "metadata": {},
   "outputs": [],
   "source": [
    "import pandas as pd\n",
    "import matplotlib.pyplot as plt\n",
    "import seaborn as sns\n",
    "sns.set_theme(style=\"whitegrid\")"
   ]
  },
  {
   "cell_type": "code",
   "execution_count": null,
   "metadata": {},
   "outputs": [],
   "source": [
    "def plot_scores_paper(dataset):\n",
    "    for sf in scores_files:\n",
    "        df = pd.read_csv(dataset + \"/\" + sf)\n",
    "        name = sf.split(\".\")[0].split(\"_\")[1]\n",
    "        # plt.title(dataset, fontsize=20)\n",
    "        plt.plot(df[\"Rounds\"], df[\"Scores\"], label=name, linestyle=':', marker=\"*\", linewidth=3, markersize=12)\n",
    "        plt.ylabel('Scores', fontsize=20)\n",
    "        plt.xlabel('Rounds', fontsize=20)\n",
    "        plt.xticks(fontsize=18)\n",
    "        plt.yticks(fontsize=18)\n",
    "        plt.legend(bbox_to_anchor=(0.5, -0.5), loc='lower center', ncol=5, fontsize= 18, frameon=False)\n"
   ]
  },
  {
   "cell_type": "code",
   "execution_count": null,
   "metadata": {},
   "outputs": [],
   "source": [
    "accept_prob_files = [\"accept_prob_fair.csv\", \"accept_prob_dyadic_fair.csv\",\n",
    "                     \"accept_prob_node2vec.csv\",\"accept_prob_hybrid_node2vec.csv\",\n",
    "                     \"accept_prob_hybrid_balanced_node2vec.csv\"]"
   ]
  },
  {
   "cell_type": "code",
   "execution_count": null,
   "metadata": {},
   "outputs": [],
   "source": [
    "plot_accept_prob_paper(\"books\")"
   ]
  },
  {
   "cell_type": "code",
   "execution_count": null,
   "metadata": {},
   "outputs": [],
   "source": [
    "plot_accept_prob_paper(\"blogs\")"
   ]
  },
  {
   "cell_type": "code",
   "execution_count": null,
   "metadata": {},
   "outputs": [],
   "source": [
    "plot_accept_prob_paper(\"dblp_course\")"
   ]
  },
  {
   "cell_type": "code",
   "execution_count": null,
   "metadata": {},
   "outputs": [],
   "source": [
    "plot_accept_prob_paper(\"twitter\")"
   ]
  },
  {
   "cell_type": "code",
   "execution_count": null,
   "metadata": {},
   "outputs": [],
   "source": []
  },
  {
   "cell_type": "code",
   "execution_count": null,
   "metadata": {},
   "outputs": [],
   "source": []
  },
  {
   "cell_type": "code",
   "execution_count": null,
   "metadata": {},
   "outputs": [],
   "source": []
  },
  {
   "cell_type": "code",
   "execution_count": null,
   "metadata": {},
   "outputs": [],
   "source": []
  }
 ]
}