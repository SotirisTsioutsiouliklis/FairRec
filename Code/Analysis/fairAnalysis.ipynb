{
 "metadata": {
  "language_info": {
   "codemirror_mode": {
    "name": "ipython",
    "version": 3
   },
   "file_extension": ".py",
   "mimetype": "text/x-python",
   "name": "python",
   "nbconvert_exporter": "python",
   "pygments_lexer": "ipython3",
   "version": 3
  },
  "orig_nbformat": 2
 },
 "nbformat": 4,
 "nbformat_minor": 2,
 "cells": [
  {
   "source": [
    "# Fair Analysis\n",
    "\n",
    "Analysis about the fair properties of various recommendation systems."
   ],
   "cell_type": "markdown",
   "metadata": {}
  },
  {
   "cell_type": "code",
   "execution_count": null,
   "metadata": {},
   "outputs": [],
   "source": [
    "import pandas as pd\n",
    "import matplotlib.pyplot as plt\n",
    "import seaborn as sns\n",
    "sns.set_theme(style=\"whitegrid\")"
   ]
  },
  {
   "cell_type": "code",
   "execution_count": null,
   "metadata": {},
   "outputs": [],
   "source": [
    "# Declarations.\n",
    "def plot_scores_paper(dataset):\n",
    "    for sf in scores_files:\n",
    "        df = pd.read_csv(dataset + \"/\" + sf)\n",
    "        name = sf.split(\".\")[0].split(\"_\")[1]\n",
    "        # plt.title(dataset, fontsize=20)\n",
    "        plt.plot(df[\"Rounds\"], df[\"Scores\"], label=name, linestyle=':', marker=\"*\", linewidth=3, markersize=12)\n",
    "        plt.ylabel('Scores', fontsize=20)\n",
    "        plt.xlabel('Rounds', fontsize=20)\n",
    "        plt.xticks(fontsize=18)\n",
    "        plt.yticks(fontsize=18)\n",
    "        plt.legend(bbox_to_anchor=(0.5, -0.5), loc='lower center', ncol=5, fontsize= 18, frameon=False)\n",
    "\n",
    "def plot_unique_targets_paper(dataset):\n",
    "    unique_targets = dict()\n",
    "    rounds = 11\n",
    "\n",
    "    for sf in scores_files:\n",
    "        df = pd.read_csv(f\"{dataset}/\" + sf)\n",
    "        unique_targets[sf] = set()\n",
    "        for r in range(1, rounds):\n",
    "            edges = eval(df[\"Edges\"][r])\n",
    "            unique_targets[sf] = unique_targets[sf].union(set([j for i,j in edges]))\n",
    "        unique_targets[sf] = list(unique_targets[sf])\n",
    "\n",
    "    unique_targets_num = dict()\n",
    "    for sf in scores_files:\n",
    "        name = sf.split(\".\")[0].split(\"_\")[1]\n",
    "        unique_targets_num[name] = len(unique_targets[sf])\n",
    "\n",
    "    b = pd.DataFrame(unique_targets_num.items())\n",
    "    g = sns.barplot(x=b[1], y=b[0])\n",
    "    # plt.title(f\"{dataset}\", fontsize=20)\n",
    "    # plt.ylabel(\"Policy\", fontsize=20)\n",
    "    plt.xlabel(\"#Unique Targets\", fontsize=20)\n",
    "    plt.xticks(fontsize=18)\n",
    "    plt.yticks(ticks=None, fontsize=20)\n",
    "    plt.legend(bbox_to_anchor=(0.5, -0.5), loc='lower center', ncol=5, fontsize= 18, frameon=False)\n",
    "    # print(unique_targets_num)\n"
   ]
  },
  {
   "source": [
    "## Simple recommenders\n",
    "\n",
    "Evaluate simple recommenders as to fairness."
   ],
   "cell_type": "markdown",
   "metadata": {}
  },
  {
   "cell_type": "code",
   "execution_count": null,
   "metadata": {},
   "outputs": [],
   "source": [
    "scores_files = [\"sc_adamic_adar.csv\", \"sc_jaccard_coefficient.csv\", \"sc_resource_allocation.csv\",\n",
    "                \"sc_preferential_attachment.csv\", \"sc_node2vec.csv\"]"
   ]
  },
  {
   "cell_type": "code",
   "execution_count": null,
   "metadata": {},
   "outputs": [],
   "source": [
    "plot_scores_paper(\"books\")"
   ]
  },
  {
   "cell_type": "code",
   "execution_count": null,
   "metadata": {},
   "outputs": [],
   "source": [
    "plot_scores_paper(\"blogs\")"
   ]
  },
  {
   "cell_type": "code",
   "execution_count": null,
   "metadata": {},
   "outputs": [],
   "source": [
    "plot_scores_paper(\"dblp_course\")"
   ]
  },
  {
   "cell_type": "code",
   "execution_count": null,
   "metadata": {},
   "outputs": [],
   "source": [
    "plot_scores_paper(\"twitter\")"
   ]
  },
  {
   "source": [
    "## Fair recommenders\n",
    "\n",
    "Evaluate fair recommenders as to fairness. Compare them with benchmarks like node2vec and random policies."
   ],
   "cell_type": "markdown",
   "metadata": {}
  },
  {
   "source": [
    "### Network's fairness evolution through rounds."
   ],
   "cell_type": "markdown",
   "metadata": {}
  },
  {
   "cell_type": "code",
   "execution_count": null,
   "metadata": {},
   "outputs": [],
   "source": [
    "scores_files = [\"sc_fair.csv\", \"sc_dyadic_fair.csv\", \"sc_node2vec.csv\", \"sc_hybrid_node2vec.csv\"]"
   ]
  },
  {
   "cell_type": "code",
   "execution_count": null,
   "metadata": {},
   "outputs": [],
   "source": [
    "plot_scores_paper(\"books\")"
   ]
  },
  {
   "cell_type": "code",
   "execution_count": null,
   "metadata": {},
   "outputs": [],
   "source": [
    "plot_scores_paper(\"blogs\")"
   ]
  },
  {
   "cell_type": "code",
   "execution_count": null,
   "metadata": {},
   "outputs": [],
   "source": [
    "plot_scores_paper(\"dblp_course\")"
   ]
  },
  {
   "cell_type": "code",
   "execution_count": null,
   "metadata": {},
   "outputs": [],
   "source": [
    "plot_scores_paper(\"twitter\")"
   ]
  },
  {
   "source": [
    "### Personalized red pagerank distribution evolution."
   ],
   "cell_type": "markdown",
   "metadata": {}
  },
  {
   "cell_type": "code",
   "execution_count": null,
   "metadata": {},
   "outputs": [],
   "source": [
    "personalized_files = [\"sc_personalized_dyadic_fair.csv_round_\", \"sc_personalized_fair.csv_round_\",\n",
    "                      \"sc_personalized_node2vec.csv_round_\", \"sc_personalized_fairwalk.csv_round_\",\n",
    "                      \"sc_personalized_hybrid_node2vec.csv_round_\"] "
   ]
  },
  {
   "cell_type": "code",
   "execution_count": null,
   "metadata": {},
   "outputs": [],
   "source": [
    "def plot_personalized_dist(dataset, algorithm):\n",
    "    distribution_distance = list()\n",
    "    file_prefix = f\"sc_personalized_{algorithm}.csv_round_\"\n",
    "    try:\n",
    "        cat = pd.read_csv(f\"{dataset}/out_community.txt\", sep=\" \", names=[\"Node\", \"Cat\"], header=0)\n",
    "    except:\n",
    "        cat = pd.read_csv(f\"{dataset}/out_community.txt\", sep=\"\\t\", names=[\"Node\", \"Cat\"], header=0)\n",
    "    df = pd.read_csv(dataset + \"/\" + file_prefix + \"-1.csv\", sep=\"\\t\")\n",
    "    fair_ratio = pd.read_csv(\"books/sc_personalized_fairwalk.csv_round_-1.csv\", sep=\"\\t\")[\"Red Personalized Pagerank\"].mean()\n",
    "    df = df.merge(cat, how=\"inner\", on=\"Node\")\n",
    "    df[\"round\"] = -1\n",
    "    fair_ratio = pd.read_csv(\"books/sc_personalized_fairwalk.csv_round_-1.csv\", sep=\"\\t\")[\"Red Personalized Pagerank\"].mean()\n",
    "    temp_red = df.loc[df[\"Cat\"] == 1][\"Red Personalized Pagerank\"]\n",
    "    temp_blue = df.loc[df[\"Cat\"] == 0][\"Red Personalized Pagerank\"]\n",
    "    distribution_distance.append(wasserstein_distance(temp_red, temp_blue))\n",
    "    for round in range(10):\n",
    "        temp_df = pd.read_csv(dataset + \"/\" + file_prefix + f\"{round}.csv\", sep=\"\\t\")\n",
    "        temp_df = temp_df.merge(cat, how=\"inner\", on=\"Node\")\n",
    "        temp_red = temp_df.loc[temp_df[\"Cat\"] == 1][\"Red Personalized Pagerank\"]\n",
    "        temp_blue = temp_df.loc[temp_df[\"Cat\"] == 0][\"Red Personalized Pagerank\"]\n",
    "        distribution_distance.append(wasserstein_distance(temp_red, temp_blue))\n",
    "        temp_df[\"round\"] = round\n",
    "        df = df.append(temp_df)\n",
    "    fig = plt.figure(figsize=(15, 8))\n",
    "    fig.suptitle(f\"Dataset: {dataset} | Algorithm: {algorithm}\")\n",
    "    sns.violinplot(x=\"round\", y=\"Red Personalized Pagerank\", hue=\"Cat\", data=df, split=True)\n",
    "    \n",
    "    return distribution_distance"
   ]
  },
  {
   "cell_type": "code",
   "execution_count": null,
   "metadata": {},
   "outputs": [],
   "source": [
    "dataset=\"books\"\n",
    "dist_dist = dict()\n",
    "dist_dist[\"node2vec\"] = plot_personalized_dist(dataset, \"node2vec\")\n",
    "dist_dist[\"hybrid_node2vec\"] = plot_personalized_dist(dataset, \"hybrid_node2vec\")\n",
    "dist_dist[\"fair\"] = plot_personalized_dist(dataset, \"fair\")\n",
    "dist_dist[\"dyadic_fair\"] = plot_personalized_dist(dataset, \"dyadic_fair\")\n",
    "dist_dist = pd.DataFrame.from_dict(dist_dist)"
   ]
  },
  {
   "cell_type": "code",
   "execution_count": null,
   "metadata": {},
   "outputs": [],
   "source": [
    "sns.lineplot(data = dist_dist)"
   ]
  },
  {
   "cell_type": "code",
   "execution_count": null,
   "metadata": {},
   "outputs": [],
   "source": [
    "dataset=\"blogs\"\n",
    "dist_dist = dict()\n",
    "dist_dist[\"node2vec\"] = plot_personalized_dist(dataset, \"node2vec\")\n",
    "dist_dist[\"hybrid_node2vec\"] = plot_personalized_dist(dataset, \"hybrid_node2vec\")\n",
    "dist_dist[\"fair\"] = plot_personalized_dist(dataset, \"fair\")\n",
    "dist_dist[\"dyadic_fair\"] = plot_personalized_dist(dataset, \"dyadic_fair\")\n",
    "dist_dist = pd.DataFrame.from_dict(dist_dist)"
   ]
  },
  {
   "cell_type": "code",
   "execution_count": null,
   "metadata": {},
   "outputs": [],
   "source": [
    "sns.lineplot(data = dist_dist)"
   ]
  },
  {
   "cell_type": "code",
   "execution_count": null,
   "metadata": {},
   "outputs": [],
   "source": [
    "dataset=\"twitter\"\n",
    "dist_dist = dict()\n",
    "dist_dist[\"node2vec\"] = plot_personalized_dist(dataset, \"node2vec\")\n",
    "dist_dist[\"hybrid_node2vec\"] = plot_personalized_dist(dataset, \"hybrid_node2vec\")\n",
    "dist_dist[\"fair\"] = plot_personalized_dist(dataset, \"fair\")\n",
    "dist_dist[\"dyadic_fair\"] = plot_personalized_dist(dataset, \"dyadic_fair\")\n",
    "dist_dist = pd.DataFrame.from_dict(dist_dist)"
   ]
  },
  {
   "cell_type": "code",
   "execution_count": null,
   "metadata": {},
   "outputs": [],
   "source": [
    "sns.lineplot(data = dist_dist)"
   ]
  },
  {
   "cell_type": "code",
   "execution_count": null,
   "metadata": {},
   "outputs": [],
   "source": [
    "dataset=\"dblp_course\"\n",
    "dist_dist = dict()\n",
    "dist_dist[\"node2vec\"] = plot_personalized_dist(dataset, \"node2vec\")\n",
    "dist_dist[\"hybrid_node2vec\"] = plot_personalized_dist(dataset, \"hybrid_node2vec\")\n",
    "dist_dist[\"fair\"] = plot_personalized_dist(dataset, \"fair\")\n",
    "dist_dist[\"dyadic_fair\"] = plot_personalized_dist(dataset, \"dyadic_fair\")\n",
    "dist_dist = pd.DataFrame.from_dict(dist_dist)"
   ]
  },
  {
   "cell_type": "code",
   "execution_count": null,
   "metadata": {},
   "outputs": [],
   "source": [
    "sns.lineplot(data = dist_dist)"
   ]
  },
  {
   "source": [
    "### Pagerank evolution on ranking through rounds."
   ],
   "cell_type": "markdown",
   "metadata": {}
  }
 ]
}