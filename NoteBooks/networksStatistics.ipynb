{
 "cells": [
  {
   "cell_type": "code",
   "execution_count": 2,
   "metadata": {},
   "outputs": [],
   "source": [
    "import pandas as pd"
   ]
  },
  {
   "cell_type": "code",
   "execution_count": 3,
   "metadata": {},
   "outputs": [],
   "source": [
    "ds = pd.read_csv('networksStatistics.txt', index_col= 0)"
   ]
  },
  {
   "cell_type": "code",
   "execution_count": 4,
   "metadata": {},
   "outputs": [],
   "source": [
    "ds_sorted = ds.sort_values(by='#nodes', axis=0)\n",
    "ds_sorted['Directed'] = [False,\n",
    " False,\n",
    " True,\n",
    " False,\n",
    " True,\n",
    " True,\n",
    " False,\n",
    " False,\n",
    " True,\n",
    " True,\n",
    " False,\n",
    " True,\n",
    " True,\n",
    " True,\n",
    " True,\n",
    " True,\n",
    " False,\n",
    " False,\n",
    " False,\n",
    " True]"
   ]
  },
  {
   "cell_type": "code",
   "execution_count": 6,
   "metadata": {
    "scrolled": true
   },
   "outputs": [
    {
     "data": {
      "text/html": [
       "<div>\n",
       "<style scoped>\n",
       "    .dataframe tbody tr th:only-of-type {\n",
       "        vertical-align: middle;\n",
       "    }\n",
       "\n",
       "    .dataframe tbody tr th {\n",
       "        vertical-align: top;\n",
       "    }\n",
       "\n",
       "    .dataframe thead th {\n",
       "        text-align: right;\n",
       "    }\n",
       "</style>\n",
       "<table border=\"1\" class=\"dataframe\">\n",
       "  <thead>\n",
       "    <tr style=\"text-align: right;\">\n",
       "      <th></th>\n",
       "      <th>#nodes</th>\n",
       "      <th>#edges</th>\n",
       "      <th>Red Ratio</th>\n",
       "      <th>Red PageRank</th>\n",
       "      <th>Homophily</th>\n",
       "      <th>Red out edges</th>\n",
       "      <th>Red out cross edges</th>\n",
       "      <th>Blue out edges</th>\n",
       "      <th>Blue out cross edges</th>\n",
       "      <th>Directed</th>\n",
       "    </tr>\n",
       "    <tr>\n",
       "      <th>Network</th>\n",
       "      <th></th>\n",
       "      <th></th>\n",
       "      <th></th>\n",
       "      <th></th>\n",
       "      <th></th>\n",
       "      <th></th>\n",
       "      <th></th>\n",
       "      <th></th>\n",
       "      <th></th>\n",
       "      <th></th>\n",
       "    </tr>\n",
       "  </thead>\n",
       "  <tbody>\n",
       "    <tr>\n",
       "      <th>books</th>\n",
       "      <td>92</td>\n",
       "      <td>748</td>\n",
       "      <td>0.467391</td>\n",
       "      <td>0.471360</td>\n",
       "      <td>0.064445</td>\n",
       "      <td>356</td>\n",
       "      <td>12</td>\n",
       "      <td>392</td>\n",
       "      <td>12</td>\n",
       "      <td>False</td>\n",
       "    </tr>\n",
       "    <tr>\n",
       "      <th>blogs</th>\n",
       "      <td>1222</td>\n",
       "      <td>16717</td>\n",
       "      <td>0.485270</td>\n",
       "      <td>0.332835</td>\n",
       "      <td>0.169915</td>\n",
       "      <td>8724</td>\n",
       "      <td>1276</td>\n",
       "      <td>7993</td>\n",
       "      <td>143</td>\n",
       "      <td>True</td>\n",
       "    </tr>\n",
       "    <tr>\n",
       "      <th>twitter</th>\n",
       "      <td>18470</td>\n",
       "      <td>48365</td>\n",
       "      <td>0.614781</td>\n",
       "      <td>0.575892</td>\n",
       "      <td>0.048673</td>\n",
       "      <td>22985</td>\n",
       "      <td>660</td>\n",
       "      <td>25380</td>\n",
       "      <td>455</td>\n",
       "      <td>True</td>\n",
       "    </tr>\n",
       "    <tr>\n",
       "      <th>dblp_course</th>\n",
       "      <td>13015</td>\n",
       "      <td>75888</td>\n",
       "      <td>0.171725</td>\n",
       "      <td>0.159773</td>\n",
       "      <td>0.876786</td>\n",
       "      <td>11890</td>\n",
       "      <td>9464</td>\n",
       "      <td>63998</td>\n",
       "      <td>9464</td>\n",
       "      <td>True</td>\n",
       "    </tr>\n",
       "  </tbody>\n",
       "</table>\n",
       "</div>"
      ],
      "text/plain": [
       "             #nodes  #edges  Red Ratio  Red PageRank  Homophily  \\\n",
       "Network                                                           \n",
       "books            92     748   0.467391      0.471360   0.064445   \n",
       "blogs          1222   16717   0.485270      0.332835   0.169915   \n",
       "twitter       18470   48365   0.614781      0.575892   0.048673   \n",
       "dblp_course   13015   75888   0.171725      0.159773   0.876786   \n",
       "\n",
       "             Red out edges  Red out cross edges  Blue out edges  \\\n",
       "Network                                                           \n",
       "books                  356                   12             392   \n",
       "blogs                 8724                 1276            7993   \n",
       "twitter              22985                  660           25380   \n",
       "dblp_course          11890                 9464           63998   \n",
       "\n",
       "             Blue out cross edges  Directed  \n",
       "Network                                      \n",
       "books                          12     False  \n",
       "blogs                         143      True  \n",
       "twitter                       455      True  \n",
       "dblp_course                  9464      True  "
      ]
     },
     "execution_count": 6,
     "metadata": {},
     "output_type": "execute_result"
    }
   ],
   "source": [
    "ds_sorted.loc[[\"books\", \"blogs\", \"twitter\", \"dblp_course\"]]"
   ]
  },
  {
   "cell_type": "code",
   "execution_count": 7,
   "metadata": {},
   "outputs": [
    {
     "data": {
      "text/plain": [
       "['karate',\n",
       " 'books',\n",
       " 'blogs',\n",
       " 'aps_perceptionBias',\n",
       " 'dblp_spyros',\n",
       " 'github_male',\n",
       " 'github_female',\n",
       " 'tmdb',\n",
       " 'dblp_course',\n",
       " 'twitter',\n",
       " 'physics',\n",
       " 'github_perceptionBias',\n",
       " 'dblp_perceptionBias',\n",
       " 'dblp_aminer',\n",
       " 'tuentyAge-A16',\n",
       " 'tuentyAge-A30',\n",
       " 'tuentyGender',\n",
       " 'pokecAge-A21',\n",
       " 'pokecInitial',\n",
       " 'linkedin']"
      ]
     },
     "execution_count": 7,
     "metadata": {},
     "output_type": "execute_result"
    }
   ],
   "source": [
    "datasets = [name for name in ds_sorted.index]\n",
    "datasets"
   ]
  },
  {
   "cell_type": "code",
   "execution_count": null,
   "metadata": {},
   "outputs": [],
   "source": [
    "datasets = "
   ]
  },
  {
   "cell_type": "code",
   "execution_count": null,
   "metadata": {},
   "outputs": [],
   "source": [
    "# Function for change out_community.txt file.\n",
    "def changeCategories(dataset):\n",
    "    edgeFile = '%s/out_graph.txt' %dataset\n",
    "    numberOfCategories = 0\n",
    "    \n",
    "    # Read Number of categories.\n",
    "    with open(edgeFile, 'r') as fileOne:\n",
    "        numberOfNodes = int(fileOne.readline() )\n",
    "    \n",
    "    # Create category list.\n",
    "    categories = np.zeros(numberOfNodes, dtype = int)\n",
    "    catFile = '%s/out_community.txt' %dataset\n",
    "    numberOfCats = 0\n",
    "    \n",
    "    # Read categories.\n",
    "    with open(catFile, 'r') as fileOne:\n",
    "        numberOfCats = int(fileOne.readline() )\n",
    "        for line in fileOne:\n",
    "            node = int(line.split()[0])\n",
    "            cat = int(line.split()[1])\n",
    "            categories[node] = cat\n",
    "            \n",
    "    with open(catFile, 'w') as fileOne:\n",
    "        fileOne.write('%d\\n' %numberOfCats)\n",
    "        \n",
    "        for i in range(categories.size):\n",
    "            fileOne.write('%d\\t%d\\n' %(i, 1 - categories[i]))"
   ]
  }
 ],
 "metadata": {
  "kernelspec": {
   "display_name": "Python 3",
   "language": "python",
   "name": "python3"
  },
  "language_info": {
   "codemirror_mode": {
    "name": "ipython",
    "version": 3
   },
   "file_extension": ".py",
   "mimetype": "text/x-python",
   "name": "python",
   "nbconvert_exporter": "python",
   "pygments_lexer": "ipython3",
   "version": "3.6.9"
  }
 },
 "nbformat": 4,
 "nbformat_minor": 4
}
