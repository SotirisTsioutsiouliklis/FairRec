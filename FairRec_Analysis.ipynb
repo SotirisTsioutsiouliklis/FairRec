{
 "cells": [
  {
   "cell_type": "code",
   "execution_count": 2,
   "metadata": {},
   "outputs": [],
   "source": [
    "# Import needed libraries.\n",
    "%matplotlib notebook\n",
    "import numpy as np\n",
    "import pandas as pd"
   ]
  },
  {
   "cell_type": "code",
   "execution_count": null,
   "metadata": {},
   "outputs": [],
   "source": [
    "# Plot precision plots.\n",
    "# Nodes to plot.\n",
    "nodes = [60, 50, 33]\n",
    "# Load 3 per node logs.\n",
    "df_0 = pd.read_csv('out_greedy_per_one_%d_log.txt' %nodes[0], sep='\\t')\n",
    "df_1 = pd.read_csv('out_greedy_per_one_%d_log.txt' %nodes[1], sep='\\t')\n",
    "df_2 = pd.read_csv('out_greedy_per_one_%d_log.txt' %nodes[2], sep='\\t')\n",
    "# Check load.\n",
    "df_0.head()\n",
    "df_1.head()\n",
    "df_2.head()\n",
    "# Plot.\n",
    "df_0.plot(x=0, y=[1,2,3], kind='line')\n",
    "df_1.plot(x=0, y=[1,2,3], kind='line')\n",
    "df_2.plot(x=0, y=[1,2,3], kind='line')"
   ]
  },
  {
   "cell_type": "code",
   "execution_count": null,
   "metadata": {},
   "outputs": [],
   "source": [
    "# Plot Greedy vs fast Greedy plots.\n",
    "# Nodes to plot.\n",
    "nodes = [60, 50, 33]\n",
    "# Load 3 per node logs. Edges and PageRank columns only.\n",
    "df_a_0 = pd.read_csv('out_greedy_per_one_%d_log.txt' %nodes[0], sep='\\t', usecols=[0,1], labels=['Edge', 'Pagerank Greedy'])\n",
    "df_a_1 = pd.read_csv('out_greedy_per_one_%d_log.txt' %nodes[1], sep='\\t', usecols=[0,1], labels=['Edge', 'Pagerank Greedy'])\n",
    "df_a_2 = pd.read_csv('out_greedy_per_one_%d_log.txt' %nodes[2], sep='\\t', usecols=[0,1], labels=['Edge', 'Pagerank Greedy'])\n",
    "df_b_0 = pd.read_csv('out_fast_greedy_per_one_%d_log.txt' %nodes[0], sep='\\t', usecols=[0,1], labels=['Edge', 'Pagerank Fast Greedy'])\n",
    "df_b_1 = pd.read_csv('out_fast_greedy_per_one_%d_log.txt' %nodes[1], sep='\\t', usecols=[0,1], labels=['Edge', 'Pagerank Fast Greedy'])\n",
    "df_b_2 = pd.read_csv('out_fast_greedy_per_one_%d_log.txt' %nodes[2], sep='\\t', usecols=[0,1], labels=['Edge', 'Pagerank Fast Greedy'])\n",
    "# Concatenate properly.\n",
    "df_0 = pd.concat([df_a_0, df_b_0], axis=1, join='inner')\n",
    "df_1 = pd.concat([df_a_1, df_b_1], axis=1, join='inner')\n",
    "df_2 = pd.concat([df_a_2, df_b_2], axis=1, join='inner')\n",
    "# Check Load\n",
    "df_0.head()\n",
    "df_1.head()\n",
    "df_2.head()\n",
    "# Plot.\n",
    "df_0.plot(x=0, y=[1,2], kind='line')\n",
    "df_1.plot(x=0, y=[1,2], kind='line')\n",
    "df_2.plot(x=0, y=[1,2], kind='line')"
   ]
  }
 ],
 "metadata": {
  "kernelspec": {
   "display_name": "Python [conda env:root] *",
   "language": "python",
   "name": "conda-root-py"
  },
  "language_info": {
   "codemirror_mode": {
    "name": "ipython",
    "version": 3
   },
   "file_extension": ".py",
   "mimetype": "text/x-python",
   "name": "python",
   "nbconvert_exporter": "python",
   "pygments_lexer": "ipython3",
   "version": "3.7.7"
  }
 },
 "nbformat": 4,
 "nbformat_minor": 4
}
